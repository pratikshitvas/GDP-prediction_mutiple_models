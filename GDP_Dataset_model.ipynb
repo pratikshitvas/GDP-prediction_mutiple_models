{
  "nbformat": 4,
  "nbformat_minor": 5,
  "metadata": {
    "accelerator": "GPU",
    "colab": {
      "name": "GDP Dataset model.ipynb",
      "provenance": [],
      "include_colab_link": true
    },
    "kernelspec": {
      "display_name": "Python 3",
      "language": "python",
      "name": "python3"
    },
    "language_info": {
      "codemirror_mode": {
        "name": "ipython",
        "version": 3
      },
      "file_extension": ".py",
      "mimetype": "text/x-python",
      "name": "python",
      "nbconvert_exporter": "python",
      "pygments_lexer": "ipython3",
      "version": "3.9.1"
    }
  },
  "cells": [
    {
      "cell_type": "markdown",
      "metadata": {
        "id": "view-in-github",
        "colab_type": "text"
      },
      "source": [
        "<a href=\"https://colab.research.google.com/github/pratikshitvas/GDP-prediction_mutiple_models/blob/main/GDP_Dataset_model.ipynb\" target=\"_parent\"><img src=\"https://colab.research.google.com/assets/colab-badge.svg\" alt=\"Open In Colab\"/></a>"
      ]
    },
    {
      "cell_type": "code",
      "metadata": {
        "id": "90f3bd87"
      },
      "source": [
        "import pandas as pd\n",
        "from sklearn.linear_model import LinearRegression\n",
        "import numpy as np\n",
        "import matplotlib.pyplot as plt\n",
        "import seaborn as sns\n",
        "from sklearn import metrics\n"
      ],
      "id": "90f3bd87",
      "execution_count": null,
      "outputs": []
    },
    {
      "cell_type": "code",
      "metadata": {
        "colab": {
          "base_uri": "https://localhost:8080/",
          "height": 202
        },
        "id": "856dfc2e",
        "outputId": "209d65bb-dffd-4e7d-dd00-09b0cead4b0b"
      },
      "source": [
        "data = pd.read_csv('edited_Copy of PANEL data for regression (GDP, X and M as Variables).csv')\n",
        "data.head()"
      ],
      "id": "856dfc2e",
      "execution_count": null,
      "outputs": [
        {
          "output_type": "execute_result",
          "data": {
            "text/html": [
              "<div>\n",
              "<style scoped>\n",
              "    .dataframe tbody tr th:only-of-type {\n",
              "        vertical-align: middle;\n",
              "    }\n",
              "\n",
              "    .dataframe tbody tr th {\n",
              "        vertical-align: top;\n",
              "    }\n",
              "\n",
              "    .dataframe thead th {\n",
              "        text-align: right;\n",
              "    }\n",
              "</style>\n",
              "<table border=\"1\" class=\"dataframe\">\n",
              "  <thead>\n",
              "    <tr style=\"text-align: right;\">\n",
              "      <th></th>\n",
              "      <th>COUNTRY ID</th>\n",
              "      <th>COUNTRY</th>\n",
              "      <th>YEAR</th>\n",
              "      <th>GDP</th>\n",
              "      <th>EXPORTS</th>\n",
              "      <th>IMPORTS</th>\n",
              "    </tr>\n",
              "  </thead>\n",
              "  <tbody>\n",
              "    <tr>\n",
              "      <th>0</th>\n",
              "      <td>1</td>\n",
              "      <td>Afghanistan</td>\n",
              "      <td>1970</td>\n",
              "      <td>1731.44</td>\n",
              "      <td>85.57</td>\n",
              "      <td>114.0</td>\n",
              "    </tr>\n",
              "    <tr>\n",
              "      <th>1</th>\n",
              "      <td>1</td>\n",
              "      <td>Afghanistan</td>\n",
              "      <td>1971</td>\n",
              "      <td>1812.84</td>\n",
              "      <td>99.65</td>\n",
              "      <td>141.0</td>\n",
              "    </tr>\n",
              "    <tr>\n",
              "      <th>2</th>\n",
              "      <td>1</td>\n",
              "      <td>Afghanistan</td>\n",
              "      <td>1972</td>\n",
              "      <td>1647.90</td>\n",
              "      <td>122.47</td>\n",
              "      <td>164.0</td>\n",
              "    </tr>\n",
              "    <tr>\n",
              "      <th>3</th>\n",
              "      <td>1</td>\n",
              "      <td>Afghanistan</td>\n",
              "      <td>1973</td>\n",
              "      <td>1702.72</td>\n",
              "      <td>143.21</td>\n",
              "      <td>172.0</td>\n",
              "    </tr>\n",
              "    <tr>\n",
              "      <th>4</th>\n",
              "      <td>1</td>\n",
              "      <td>Afghanistan</td>\n",
              "      <td>1974</td>\n",
              "      <td>2061.73</td>\n",
              "      <td>230.00</td>\n",
              "      <td>243.0</td>\n",
              "    </tr>\n",
              "  </tbody>\n",
              "</table>\n",
              "</div>"
            ],
            "text/plain": [
              "   COUNTRY ID                COUNTRY  YEAR      GDP  EXPORTS  IMPORTS\n",
              "0           1            Afghanistan  1970  1731.44    85.57    114.0\n",
              "1           1            Afghanistan  1971  1812.84    99.65    141.0\n",
              "2           1            Afghanistan  1972  1647.90   122.47    164.0\n",
              "3           1            Afghanistan  1973  1702.72   143.21    172.0\n",
              "4           1            Afghanistan  1974  2061.73   230.00    243.0"
            ]
          },
          "metadata": {
            "tags": []
          },
          "execution_count": 11
        }
      ]
    },
    {
      "cell_type": "code",
      "metadata": {
        "id": "478d9756"
      },
      "source": [
        "data.COUNTRY = [s.strip() for s in data.COUNTRY]"
      ],
      "id": "478d9756",
      "execution_count": null,
      "outputs": []
    },
    {
      "cell_type": "code",
      "metadata": {
        "id": "af1063cd"
      },
      "source": [
        "country_names = list(data.COUNTRY.unique())\n",
        "#country_names"
      ],
      "id": "af1063cd",
      "execution_count": null,
      "outputs": []
    },
    {
      "cell_type": "code",
      "metadata": {
        "colab": {
          "base_uri": "https://localhost:8080/",
          "height": 286
        },
        "id": "8b871ec1",
        "outputId": "4a6f4d45-50f1-4ae0-bf09-53fe58fc2863"
      },
      "source": [
        "sns.heatmap(data.corr(), annot=data.corr())"
      ],
      "id": "8b871ec1",
      "execution_count": null,
      "outputs": [
        {
          "output_type": "execute_result",
          "data": {
            "text/plain": [
              "<matplotlib.axes._subplots.AxesSubplot at 0x7f212e9b0a10>"
            ]
          },
          "metadata": {
            "tags": []
          },
          "execution_count": 14
        },
        {
          "output_type": "display_data",
          "data": {
            "image/png": "[encoded data removed]",
            "text/plain": [
              "<Figure size 432x288 with 2 Axes>"
            ]
          },
          "metadata": {
            "tags": []
          }
        }
      ]
    },
    {
      "cell_type": "code",
      "metadata": {
        "id": "6219296b"
      },
      "source": [
        "def item_counter(df,split_features,unique_attributes):\n",
        "    lst = []\n",
        "    for i in unique_attributes:\n",
        "        item = df.loc[df[split_features]==i]\n",
        "        lst.append(item)\n",
        "    return lst"
      ],
      "id": "6219296b",
      "execution_count": null,
      "outputs": []
    },
    {
      "cell_type": "code",
      "metadata": {
        "id": "5f42d1c4"
      },
      "source": [
        "country_wize_list = item_counter(data,'COUNTRY',country_names)\n",
        "#print('\\n\\n'.join('{}' for _ in range(len(country_wize_list))).format(*country_wize_list))"
      ],
      "id": "5f42d1c4",
      "execution_count": null,
      "outputs": []
    },
    {
      "cell_type": "code",
      "metadata": {
        "colab": {
          "base_uri": "https://localhost:8080/"
        },
        "id": "df965799",
        "outputId": "b34bf210-9577-4d08-ffb4-f37e2d05ed52"
      },
      "source": [
        "print(len(country_wize_list),len(country_names))"
      ],
      "id": "df965799",
      "execution_count": null,
      "outputs": [
        {
          "output_type": "stream",
          "text": [
            "218 218\n"
          ],
          "name": "stdout"
        }
      ]
    },
    {
      "cell_type": "code",
      "metadata": {
        "colab": {
          "base_uri": "https://localhost:8080/"
        },
        "id": "b45587fc",
        "outputId": "de910946-6804-40f1-f2b1-683b0e5d8924"
      },
      "source": [
        "type(country_wize_list[0])"
      ],
      "id": "b45587fc",
      "execution_count": null,
      "outputs": [
        {
          "output_type": "execute_result",
          "data": {
            "text/plain": [
              "pandas.core.frame.DataFrame"
            ]
          },
          "metadata": {
            "tags": []
          },
          "execution_count": 18
        }
      ]
    },
    {
      "cell_type": "markdown",
      "metadata": {
        "id": "hbErgUhwUjZ6"
      },
      "source": [
        "**linear regression**"
      ],
      "id": "hbErgUhwUjZ6"
    },
    {
      "cell_type": "code",
      "metadata": {
        "id": "2fb95ef4"
      },
      "source": [
        "dictionary = {}\n",
        "for i in country_names:\n",
        "    for j in country_wize_list:\n",
        "        if j.COUNTRY.unique() == i:\n",
        "            model = LinearRegression().fit(j[['COUNTRY ID','YEAR','EXPORTS','GDP']],j.IMPORTS)\n",
        "            dictionary[i] = model"
      ],
      "id": "2fb95ef4",
      "execution_count": null,
      "outputs": []
    },
    {
      "cell_type": "code",
      "metadata": {
        "id": "4bd83ffa"
      },
      "source": [
        "a = dictionary['Afghanistan']"
      ],
      "id": "4bd83ffa",
      "execution_count": null,
      "outputs": []
    },
    {
      "cell_type": "code",
      "metadata": {
        "colab": {
          "base_uri": "https://localhost:8080/"
        },
        "id": "86817476",
        "outputId": "89c0f126-2148-4ed8-b465-2f1f8e1738d3"
      },
      "source": [
        "a.predict([[1,2020,6000.27,13000]])"
      ],
      "id": "86817476",
      "execution_count": null,
      "outputs": [
        {
          "output_type": "execute_result",
          "data": {
            "text/plain": [
              "array([4198.61963469])"
            ]
          },
          "metadata": {
            "tags": []
          },
          "execution_count": 21
        }
      ]
    },
    {
      "cell_type": "code",
      "metadata": {
        "colab": {
          "base_uri": "https://localhost:8080/"
        },
        "id": "a0552885",
        "outputId": "8013739d-f702-4e1f-dd60-d047ee84490b"
      },
      "source": [
        "from sklearn.metrics import r2_score\n",
        "for i in dictionary.keys():\n",
        "    for j in country_wize_list:\n",
        "        if j.COUNTRY.unique() == i:\n",
        "            prediction = dictionary[i].predict(j[['COUNTRY ID','YEAR','EXPORTS','GDP']])\n",
        "            print(r2_score(prediction,j.IMPORTS))"
      ],
      "id": "a0552885",
      "execution_count": null,
      "outputs": [
        {
          "output_type": "stream",
          "text": [
            "0.9677763124491325\n",
            "0.9909720169640759\n",
            "0.9620855768291193\n",
            "0.9453680398080598\n",
            "0.9556051325339159\n",
            "0.8954464460288951\n",
            "0.92330314244953\n",
            "0.9854233969152965\n",
            "0.973928211196585\n",
            "0.9867321827535122\n",
            "0.9945468551572096\n",
            "0.9986713386337878\n",
            "0.9434387914022008\n",
            "0.9268155848906559\n",
            "0.936644416216757\n",
            "0.9943796289551627\n",
            "0.9765567009166269\n",
            "0.9903966150992184\n",
            "0.9989943836593449\n",
            "0.9880805806038526\n",
            "0.9834565746896581\n",
            "0.9477891787960824\n",
            "0.9699836346489366\n",
            "0.9942727375010915\n",
            "0.9681327786279158\n",
            "0.9371725695036079\n",
            "0.9844909011223757\n",
            "0.8968503969807518\n",
            "0.8466331711130735\n",
            "0.9692578988202087\n",
            "0.974548578133882\n",
            "0.93374131240795\n",
            "0.9864769800508606\n",
            "0.9939814087017513\n",
            "0.9505392677526285\n",
            "0.996780866359228\n",
            "0.9829170837308793\n",
            "0.7414778831603814\n",
            "0.9348760592245292\n",
            "0.9881043955993156\n",
            "0.9942880902140545\n",
            "0.9981827327037025\n",
            "0.9872310325510467\n",
            "0.995474010402662\n",
            "0.9897004024351518\n",
            "0.8792691516299146\n",
            "0.6555797149245888\n",
            "0.9240987013791727\n",
            "0.9629827154203251\n",
            "0.9902885673042042\n",
            "0.9571058759023675\n",
            "0.9676328240416701\n",
            "0.8800715416010361\n",
            "0.9899766729090493\n",
            "0.9785120043266023\n",
            "0.998597145847063\n",
            "0.9820382889604785\n",
            "0.9960557938479353\n",
            "0.9954416838125915\n",
            "0.9467999789278461\n",
            "0.9798144185100217\n",
            "0.9917839591177781\n",
            "0.9695495921848417\n",
            "0.9900364010858796\n",
            "0.9413632348696431\n",
            "0.9635312262663468\n",
            "0.9786776427384101\n",
            "0.9621577381455391\n",
            "0.9725302512011181\n",
            "0.8429415243534079\n",
            "0.9668102963121121\n",
            "0.9864704434145142\n",
            "0.9918781798214987\n",
            "0.9639341813498362\n",
            "0.9655834079231176\n",
            "0.8652891620880642\n",
            "0.994690776100548\n",
            "0.9962327943075953\n",
            "0.9845009402489439\n",
            "0.9457691752884417\n",
            "0.9881346682970461\n",
            "0.9426071278278382\n",
            "0.9777458644254692\n",
            "0.9912994142576759\n",
            "0.8637985174944771\n",
            "0.9208207516939415\n",
            "0.9294316142500001\n",
            "0.9705102704783749\n",
            "0.9905538309770969\n",
            "0.9975831513331684\n",
            "0.9867530202293245\n",
            "0.9959129110355042\n",
            "0.9677745450312378\n",
            "0.9720802239641978\n",
            "0.940362596761066\n",
            "0.9315863552093466\n",
            "0.9844111925028399\n",
            "0.9891672599788996\n",
            "0.9903937556237375\n",
            "0.9676241720227666\n",
            "0.9712706105642358\n",
            "0.9878352548670811\n",
            "0.9739433634788314\n",
            "0.9893218035550658\n",
            "0.9482819343789943\n",
            "0.9540706578505411\n",
            "0.9922045582596867\n",
            "0.9692125771130508\n",
            "0.9700932316651444\n",
            "0.9874111158079838\n",
            "0.985868733191044\n",
            "0.9795950253747117\n",
            "0.9772125341007876\n",
            "0.6074382840368271\n",
            "0.3333455793780786\n",
            "0.9938825975696116\n",
            "0.9965742105164928\n",
            "0.9521636167122327\n",
            "0.9151360789639367\n",
            "0.9956677782120424\n",
            "0.9927632996409487\n",
            "0.9907262428126143\n",
            "0.9876707488732702\n",
            "0.4948934127075023\n",
            "0.9115501550836502\n",
            "0.9930512068446935\n",
            "0.9983366063637055\n",
            "0.9228749822503742\n",
            "0.9515600508478014\n",
            "0.9127778265800387\n",
            "0.5614468956981389\n",
            "-0.48481497407399\n",
            "0.9919314631204128\n",
            "0.9114069989829512\n",
            "0.9274558365960287\n",
            "0.9703327796017494\n",
            "-0.3258441043945879\n",
            "0.9851609880677182\n",
            "0.9996497021807352\n",
            "0.9025302259617823\n",
            "0.981640759010612\n",
            "0.9933211838505773\n",
            "0.9872976026114929\n",
            "0.9414013633979472\n",
            "0.9703446549394521\n",
            "0.9921073827269916\n",
            "0.9894442379647757\n",
            "0.9814314278077841\n",
            "0.9812491463986666\n",
            "0.8293062342435453\n",
            "0.9926613435906615\n",
            "0.9866451690454207\n",
            "0.7896838865954623\n",
            "0.9798926752239271\n",
            "0.9908474048710643\n",
            "0.9619953551714104\n",
            "0.9979539125848683\n",
            "0.9936297568447446\n",
            "0.9510990677878951\n",
            "0.9818309046516487\n",
            "0.992968417557333\n",
            "0.978865287814851\n",
            "0.9675344916984435\n",
            "0.9598110292223633\n",
            "0.9775634166719406\n",
            "0.9738293589497276\n",
            "0.9176476470973934\n",
            "0.9704174871331888\n",
            "0.974945795986968\n",
            "0.8736698811114716\n",
            "0.9918147771482153\n",
            "0.9755535863202877\n",
            "0.8847478114868602\n",
            "0.9965119080324759\n",
            "-0.006025469397722194\n",
            "0.9978046019575441\n",
            "0.9970298757303857\n",
            "0.9754070965655267\n",
            "0.9198355317124758\n",
            "0.9852659143677025\n",
            "0.9892192902876763\n",
            "0.9881583431956683\n",
            "0.9888694387989603\n",
            "-0.4208929023609611\n",
            "0.9553727955915905\n",
            "0.959410568904968\n",
            "0.9906397065641102\n",
            "0.9983954387058478\n",
            "0.9299576652793159\n",
            "0.9712151387232655\n",
            "0.9733983056025928\n",
            "0.9900522991510767\n",
            "0.6729920333410973\n",
            "0.9823150773470123\n",
            "0.9641177924215518\n",
            "0.9539329313836983\n",
            "0.993737538113394\n",
            "0.9924142573982256\n",
            "0.7715945923865913\n",
            "0.771493985760079\n",
            "0.8651352567907329\n",
            "0.9800771241657898\n",
            "0.9883667740281242\n",
            "0.9741890276020901\n",
            "0.9869510261867731\n",
            "0.9869970302390926\n",
            "0.9883587035343512\n",
            "0.9777088678593217\n",
            "0.8373349847120587\n",
            "0.9554127800333413\n",
            "0.92913252799102\n",
            "0.9980403208368281\n",
            "0.9216236222998248\n",
            "0.3674082754034731\n",
            "0.9588391547559224\n",
            "0.9063693135094457\n",
            "0.97729172575084\n",
            "0.8472981431107147\n"
          ],
          "name": "stdout"
        }
      ]
    },
    {
      "cell_type": "markdown",
      "metadata": {
        "id": "7T40DkgJVy_Q"
      },
      "source": [
        "**PRIDECTING imports USING ONLY GDP**"
      ],
      "id": "7T40DkgJVy_Q"
    },
    {
      "cell_type": "code",
      "metadata": {
        "id": "25bc0077"
      },
      "source": [
        "dictionary_1 = {}\n",
        "for i in country_names:\n",
        "    for j in country_wize_list:\n",
        "        if j.COUNTRY.unique() == i:\n",
        "            model = LinearRegression().fit(j[['COUNTRY ID','YEAR','GDP']],j.IMPORTS)\n",
        "            dictionary_1[i] = model"
      ],
      "id": "25bc0077",
      "execution_count": null,
      "outputs": []
    },
    {
      "cell_type": "code",
      "metadata": {
        "id": "TOK-7xKoVmmK"
      },
      "source": [
        "a = dictionary_1['Afghanistan']"
      ],
      "id": "TOK-7xKoVmmK",
      "execution_count": null,
      "outputs": []
    },
    {
      "cell_type": "code",
      "metadata": {
        "colab": {
          "base_uri": "https://localhost:8080/"
        },
        "id": "cGM__DYhVrVq",
        "outputId": "bb65255b-0db1-437c-ac91-fab72b467544"
      },
      "source": [
        "a.predict([[1,2020,600.27]])"
      ],
      "id": "cGM__DYhVrVq",
      "execution_count": null,
      "outputs": [
        {
          "output_type": "execute_result",
          "data": {
            "text/plain": [
              "array([145.81541156])"
            ]
          },
          "metadata": {
            "tags": []
          },
          "execution_count": 25
        }
      ]
    },
    {
      "cell_type": "markdown",
      "metadata": {
        "id": "SCbFjkPbV2Gz"
      },
      "source": [
        "**PREDICTING IMPORTS using exports**"
      ],
      "id": "SCbFjkPbV2Gz"
    },
    {
      "cell_type": "code",
      "metadata": {
        "id": "hxTZFJUTV6JI"
      },
      "source": [
        "dictionary_2= {}\n",
        "for i in country_names:\n",
        "    for j in country_wize_list:\n",
        "        if j.COUNTRY.unique() == i:\n",
        "            model = LinearRegression().fit(j[['COUNTRY ID','YEAR','EXPORTS']],j.IMPORTS)\n",
        "            dictionary_2[i] = model"
      ],
      "id": "hxTZFJUTV6JI",
      "execution_count": null,
      "outputs": []
    },
    {
      "cell_type": "code",
      "metadata": {
        "id": "M-DPAEEpWCqw"
      },
      "source": [
        "a = dictionary_2['Afghanistan']"
      ],
      "id": "M-DPAEEpWCqw",
      "execution_count": null,
      "outputs": []
    },
    {
      "cell_type": "code",
      "metadata": {
        "colab": {
          "base_uri": "https://localhost:8080/"
        },
        "id": "kBFlLL6YWEcO",
        "outputId": "07e9cb8d-1cc0-4b42-9a57-45b0121a5687"
      },
      "source": [
        "a.predict([[1,1997,400.27]])"
      ],
      "id": "kBFlLL6YWEcO",
      "execution_count": null,
      "outputs": [
        {
          "output_type": "execute_result",
          "data": {
            "text/plain": [
              "array([2708.96532523])"
            ]
          },
          "metadata": {
            "tags": []
          },
          "execution_count": 28
        }
      ]
    },
    {
      "cell_type": "markdown",
      "metadata": {
        "id": "XM6TjwAepWaV"
      },
      "source": [
        "**PREDICTING EXPORTS**"
      ],
      "id": "XM6TjwAepWaV"
    },
    {
      "cell_type": "code",
      "metadata": {
        "id": "i25oshOkpaS4"
      },
      "source": [
        "dictionary_E= {}\n",
        "for i in country_names:\n",
        "    for j in country_wize_list:\n",
        "        if j.COUNTRY.unique() == i:\n",
        "            model = LinearRegression().fit(j[['COUNTRY ID','YEAR','IMPORTS','GDP']],j.EXPORTS)\n",
        "            dictionary_E[i] = model"
      ],
      "id": "i25oshOkpaS4",
      "execution_count": null,
      "outputs": []
    },
    {
      "cell_type": "code",
      "metadata": {
        "id": "PA6yWjjJpy6u"
      },
      "source": [
        "a = dictionary_E['Afghanistan']"
      ],
      "id": "PA6yWjjJpy6u",
      "execution_count": null,
      "outputs": []
    },
    {
      "cell_type": "code",
      "metadata": {
        "colab": {
          "base_uri": "https://localhost:8080/"
        },
        "id": "5rgxyRTvp0F2",
        "outputId": "c13e0b8a-f80f-4aad-a157-a93db0de2c90"
      },
      "source": [
        "a.predict([[1,2020,6000.27,13000]])"
      ],
      "id": "5rgxyRTvp0F2",
      "execution_count": null,
      "outputs": [
        {
          "output_type": "execute_result",
          "data": {
            "text/plain": [
              "array([414.76265317])"
            ]
          },
          "metadata": {
            "tags": []
          },
          "execution_count": 31
        }
      ]
    },
    {
      "cell_type": "markdown",
      "metadata": {
        "id": "W66qxUFBp84X"
      },
      "source": [
        "**EXPORTS USING GDP ONLY**"
      ],
      "id": "W66qxUFBp84X"
    },
    {
      "cell_type": "code",
      "metadata": {
        "id": "HN8hxcppp2gF"
      },
      "source": [
        "dictionary_G = {}\n",
        "for i in country_names:\n",
        "    for j in country_wize_list:\n",
        "        if j.COUNTRY.unique() == i:\n",
        "            model = LinearRegression().fit(j[['COUNTRY ID','YEAR','GDP']],j.EXPORTS)\n",
        "            dictionary_G[i] = model"
      ],
      "id": "HN8hxcppp2gF",
      "execution_count": null,
      "outputs": []
    },
    {
      "cell_type": "code",
      "metadata": {
        "id": "-iXRslcQqTDV"
      },
      "source": [
        "a = dictionary_G['Afghanistan']"
      ],
      "id": "-iXRslcQqTDV",
      "execution_count": null,
      "outputs": []
    },
    {
      "cell_type": "code",
      "metadata": {
        "colab": {
          "base_uri": "https://localhost:8080/"
        },
        "id": "Yo52f023qY0Q",
        "outputId": "1e5f6b3c-3fa2-4b1b-e7b3-4345cffa00f2"
      },
      "source": [
        "a.predict([[1,2020,13000]])"
      ],
      "id": "Yo52f023qY0Q",
      "execution_count": null,
      "outputs": [
        {
          "output_type": "execute_result",
          "data": {
            "text/plain": [
              "array([438.04260836])"
            ]
          },
          "metadata": {
            "tags": []
          },
          "execution_count": 34
        }
      ]
    },
    {
      "cell_type": "markdown",
      "metadata": {
        "id": "1iITgKmCqm0H"
      },
      "source": [
        "**EXPORTS USING IMPORTS**"
      ],
      "id": "1iITgKmCqm0H"
    },
    {
      "cell_type": "code",
      "metadata": {
        "id": "OhjW_uljqqqp"
      },
      "source": [
        "dictionary_I = {}\n",
        "for i in country_names:\n",
        "    for j in country_wize_list:\n",
        "        if j.COUNTRY.unique() == i:\n",
        "            model = LinearRegression().fit(j[['COUNTRY ID','YEAR','IMPORTS']],j.EXPORTS)\n",
        "            dictionary_I[i] = model"
      ],
      "id": "OhjW_uljqqqp",
      "execution_count": null,
      "outputs": []
    },
    {
      "cell_type": "code",
      "metadata": {
        "colab": {
          "base_uri": "https://localhost:8080/"
        },
        "id": "roCdFx99vc1j",
        "outputId": "ec609b74-590b-4da5-b5dd-3bab715a3206"
      },
      "source": [
        "a = dictionary_G['Afghanistan']\n",
        "a.predict([[1,2020,300]])"
      ],
      "id": "roCdFx99vc1j",
      "execution_count": null,
      "outputs": [
        {
          "output_type": "execute_result",
          "data": {
            "text/plain": [
              "array([74.13399577])"
            ]
          },
          "metadata": {
            "tags": []
          },
          "execution_count": 36
        }
      ]
    },
    {
      "cell_type": "code",
      "metadata": {
        "colab": {
          "base_uri": "https://localhost:8080/"
        },
        "id": "m2hIfdsn0n8O",
        "outputId": "4270cc69-f573-48da-8164-5c7b0e717db5"
      },
      "source": [
        "print('MAE:', metrics.mean_absolute_error(prediction,j.EXPORTS))\n",
        "print('RMSE:', np.sqrt(metrics.mean_squared_error(prediction,j.EXPORTS)))\n",
        "print('R2_Score: ', metrics.r2_score(prediction,j.EXPORTS))"
      ],
      "id": "m2hIfdsn0n8O",
      "execution_count": null,
      "outputs": [
        {
          "output_type": "stream",
          "text": [
            "MAE: 780.8954732276884\n",
            "RMSE: 1101.5953302796327\n",
            "R2_Score:  0.6632629789714419\n"
          ],
          "name": "stdout"
        }
      ]
    },
    {
      "cell_type": "markdown",
      "metadata": {
        "id": "Mo-Ly6m7Q5po"
      },
      "source": [
        "***SVM(EXPORTS)***"
      ],
      "id": "Mo-Ly6m7Q5po"
    },
    {
      "cell_type": "code",
      "metadata": {
        "colab": {
          "base_uri": "https://localhost:8080/"
        },
        "id": "ZzBkjcFbQ9Dx",
        "outputId": "0eb96c5f-3e4e-4b88-d85f-ff40361a2911"
      },
      "source": [
        "data.dtypes"
      ],
      "id": "ZzBkjcFbQ9Dx",
      "execution_count": null,
      "outputs": [
        {
          "output_type": "execute_result",
          "data": {
            "text/plain": [
              "COUNTRY ID      int64\n",
              "COUNTRY        object\n",
              "YEAR            int64\n",
              "GDP           float64\n",
              "EXPORTS       float64\n",
              "IMPORTS       float64\n",
              "dtype: object"
            ]
          },
          "metadata": {
            "tags": []
          },
          "execution_count": 38
        }
      ]
    },
    {
      "cell_type": "code",
      "metadata": {
        "colab": {
          "base_uri": "https://localhost:8080/"
        },
        "id": "TjuY5hOzR8ZG",
        "outputId": "ea1c087f-5d83-4258-b587-52d17b65f3c8"
      },
      "source": [
        "data['COUNTRY'].value_counts()"
      ],
      "id": "TjuY5hOzR8ZG",
      "execution_count": null,
      "outputs": [
        {
          "output_type": "execute_result",
          "data": {
            "text/plain": [
              "Lebanon                         50\n",
              "Japan                           50\n",
              "Guinea-Bissau                   50\n",
              "Qatar                           50\n",
              "Costa Rica                      50\n",
              "                                ..\n",
              "Montenegro                      12\n",
              "Panama, excluding Canal Zone    11\n",
              "Curaçao                          9\n",
              "Sint Maarten (Dutch part)        9\n",
              "Sudan                            8\n",
              "Name: COUNTRY, Length: 218, dtype: int64"
            ]
          },
          "metadata": {
            "tags": []
          },
          "execution_count": 39
        }
      ]
    },
    {
      "cell_type": "code",
      "metadata": {
        "id": "3LcrFCunSvNx"
      },
      "source": [
        "x = data['GDP']\n",
        "y = data['EXPORTS']"
      ],
      "id": "3LcrFCunSvNx",
      "execution_count": null,
      "outputs": []
    },
    {
      "cell_type": "code",
      "metadata": {
        "colab": {
          "base_uri": "https://localhost:8080/"
        },
        "id": "l6_sTTxbSZWs",
        "outputId": "1b077ce3-a262-405c-fb44-0d6bfb5d2272"
      },
      "source": [
        "from sklearn.model_selection import train_test_split\n",
        "x_train, x_test, y_train, y_test = train_test_split(x,y, test_size=0.2, random_state=4)\n",
        "x_train.shape"
      ],
      "id": "l6_sTTxbSZWs",
      "execution_count": null,
      "outputs": [
        {
          "output_type": "execute_result",
          "data": {
            "text/plain": [
              "(7595,)"
            ]
          },
          "metadata": {
            "tags": []
          },
          "execution_count": 41
        }
      ]
    },
    {
      "cell_type": "code",
      "metadata": {
        "colab": {
          "base_uri": "https://localhost:8080/"
        },
        "id": "WyS_RumrXo2G",
        "outputId": "8840f25b-a867-410f-fed1-bee8508c4b63"
      },
      "source": [
        "x_test.shape"
      ],
      "id": "WyS_RumrXo2G",
      "execution_count": null,
      "outputs": [
        {
          "output_type": "execute_result",
          "data": {
            "text/plain": [
              "(1899,)"
            ]
          },
          "metadata": {
            "tags": []
          },
          "execution_count": 42
        }
      ]
    },
    {
      "cell_type": "code",
      "metadata": {
        "colab": {
          "base_uri": "https://localhost:8080/"
        },
        "id": "JsBV9_p6Y7L5",
        "outputId": "2a5828b9-1922-4207-f3c7-b76ccd2f5a1e"
      },
      "source": [
        "y_train.shape"
      ],
      "id": "JsBV9_p6Y7L5",
      "execution_count": null,
      "outputs": [
        {
          "output_type": "execute_result",
          "data": {
            "text/plain": [
              "(7595,)"
            ]
          },
          "metadata": {
            "tags": []
          },
          "execution_count": 43
        }
      ]
    },
    {
      "cell_type": "code",
      "metadata": {
        "colab": {
          "base_uri": "https://localhost:8080/"
        },
        "id": "dBM-pYwmYb4y",
        "outputId": "46b65172-bf2a-46cd-8385-72654d40b44e"
      },
      "source": [
        "from sklearn import svm\n",
        "svm.SVC(kernel='linear', gamma='auto', C=2)"
      ],
      "id": "dBM-pYwmYb4y",
      "execution_count": null,
      "outputs": [
        {
          "output_type": "execute_result",
          "data": {
            "text/plain": [
              "SVC(C=2, break_ties=False, cache_size=200, class_weight=None, coef0=0.0,\n",
              "    decision_function_shape='ovr', degree=3, gamma='auto', kernel='linear',\n",
              "    max_iter=-1, probability=False, random_state=None, shrinking=True,\n",
              "    tol=0.001, verbose=False)"
            ]
          },
          "metadata": {
            "tags": []
          },
          "execution_count": 44
        }
      ]
    },
    {
      "cell_type": "code",
      "metadata": {
        "colab": {
          "base_uri": "https://localhost:8080/"
        },
        "id": "UrKBxuAIgOEn",
        "outputId": "b55bbd68-ba17-4ecb-b5ea-83fa5d16ed75"
      },
      "source": [
        "x_train[:5]"
      ],
      "id": "UrKBxuAIgOEn",
      "execution_count": null,
      "outputs": [
        {
          "output_type": "execute_result",
          "data": {
            "text/plain": [
              "6367    3653.86\n",
              "3682    7939.74\n",
              "1900     244.30\n",
              "5480    1035.62\n",
              "1922    6265.86\n",
              "Name: GDP, dtype: float64"
            ]
          },
          "metadata": {
            "tags": []
          },
          "execution_count": 45
        }
      ]
    },
    {
      "cell_type": "code",
      "metadata": {
        "colab": {
          "base_uri": "https://localhost:8080/"
        },
        "id": "a2aszz2mgYPX",
        "outputId": "198fa48e-754b-44d7-a8a6-9a9cdbb07f52"
      },
      "source": [
        "y_train[:5]"
      ],
      "id": "a2aszz2mgYPX",
      "execution_count": null,
      "outputs": [
        {
          "output_type": "execute_result",
          "data": {
            "text/plain": [
              "6367     272.40\n",
              "3682    1158.80\n",
              "1900      71.76\n",
              "5480     424.40\n",
              "1922    1866.00\n",
              "Name: EXPORTS, dtype: float64"
            ]
          },
          "metadata": {
            "tags": []
          },
          "execution_count": 46
        }
      ]
    },
    {
      "cell_type": "code",
      "metadata": {
        "colab": {
          "base_uri": "https://localhost:8080/"
        },
        "id": "j3E66N-ykhmJ",
        "outputId": "7327e351-ab9b-47e6-c639-f3e3939fb10b"
      },
      "source": [
        "from sklearn.svm import SVR\n",
        "from sklearn.model_selection import GridSearchCV\n",
        "svm.SVR(kernel='linear', gamma='scale', C=2)"
      ],
      "id": "j3E66N-ykhmJ",
      "execution_count": null,
      "outputs": [
        {
          "output_type": "execute_result",
          "data": {
            "text/plain": [
              "SVR(C=2, cache_size=200, coef0=0.0, degree=3, epsilon=0.1, gamma='scale',\n",
              "    kernel='linear', max_iter=-1, shrinking=True, tol=0.001, verbose=False)"
            ]
          },
          "metadata": {
            "tags": []
          },
          "execution_count": 47
        }
      ]
    },
    {
      "cell_type": "code",
      "metadata": {
        "colab": {
          "base_uri": "https://localhost:8080/"
        },
        "id": "NiKT29jlkkBR",
        "outputId": "cd0a8205-e252-42f9-85a3-d697fd145b74"
      },
      "source": [
        "regressor=SVR(kernel='sigmoid',gamma = 'scale').fit(np.array(x_train).reshape(-1,1),np.array(y_train).reshape(-1,1))"
      ],
      "id": "NiKT29jlkkBR",
      "execution_count": null,
      "outputs": [
        {
          "output_type": "stream",
          "text": [
            "/usr/local/lib/python3.7/dist-packages/sklearn/utils/validation.py:760: DataConversionWarning: A column-vector y was passed when a 1d array was expected. Please change the shape of y to (n_samples, ), for example using ravel().\n",
            "  y = column_or_1d(y, warn=True)\n"
          ],
          "name": "stderr"
        }
      ]
    },
    {
      "cell_type": "code",
      "metadata": {
        "id": "wtU8Sd3Kcsvy"
      },
      "source": [
        ""
      ],
      "id": "wtU8Sd3Kcsvy",
      "execution_count": null,
      "outputs": []
    },
    {
      "cell_type": "code",
      "metadata": {
        "id": "us4NmxWQmHU-"
      },
      "source": [
        "svm_pred = regressor.predict(np.array(x_test).reshape(-1,1))"
      ],
      "id": "us4NmxWQmHU-",
      "execution_count": null,
      "outputs": []
    },
    {
      "cell_type": "code",
      "metadata": {
        "colab": {
          "base_uri": "https://localhost:8080/"
        },
        "id": "_aeJLhrzMayP",
        "outputId": "dffaa454-5e21-4695-90ac-4cfb43feacf1"
      },
      "source": [
        "print(svm_pred)"
      ],
      "id": "_aeJLhrzMayP",
      "execution_count": null,
      "outputs": [
        {
          "output_type": "stream",
          "text": [
            "[1814.72999962 2554.80738678 1770.55718389 ... 1770.7891716  1841.45890354\n",
            " 1785.45380402]\n"
          ],
          "name": "stdout"
        }
      ]
    },
    {
      "cell_type": "code",
      "metadata": {
        "colab": {
          "base_uri": "https://localhost:8080/"
        },
        "id": "M6bt1GZTmbp1",
        "outputId": "e994dd99-1e67-408f-83c3-5a7cbff08f25"
      },
      "source": [
        "from sklearn import metrics\n",
        "print('MAE:', metrics.mean_absolute_error(y_test, svm_pred))\n",
        "print('RMSE:', np.sqrt(metrics.mean_squared_error(y_test, svm_pred)))\n",
        "print('R2_Score: ', metrics.r2_score(y_test, svm_pred))"
      ],
      "id": "M6bt1GZTmbp1",
      "execution_count": null,
      "outputs": [
        {
          "output_type": "stream",
          "text": [
            "MAE: 37746.82001618292\n",
            "RMSE: 133158.50451028094\n",
            "R2_Score:  -0.07681505806731548\n"
          ],
          "name": "stdout"
        }
      ]
    },
    {
      "cell_type": "code",
      "metadata": {
        "colab": {
          "base_uri": "https://localhost:8080/",
          "height": 404
        },
        "id": "16vVsXVkMqlH",
        "outputId": "41269cba-bf9e-4362-bec3-81fc48f165cc"
      },
      "source": [
        "fig = plt.figure(figsize=(12, 6))\n",
        "plt.scatter(y_test,svm_pred, linewidths=2, edgecolors='b', color='coral')\n",
        "plt.xlabel('True GDP') \n",
        "plt.ylabel('EXPORTS Predictions') \n",
        "plt.title('Unoptimized SVM prediction Performance (with scaling)') \n",
        "plt.grid()\n",
        "plt.show()"
      ],
      "id": "16vVsXVkMqlH",
      "execution_count": null,
      "outputs": [
        {
          "output_type": "display_data",
          "data": {
            "image/png": "[encoded data removed]",
            "text/plain": [
              "<Figure size 864x432 with 1 Axes>"
            ]
          },
          "metadata": {
            "tags": []
          }
        }
      ]
    },
    {
      "cell_type": "markdown",
      "metadata": {
        "id": "hFYcMMBwMLUY"
      },
      "source": [
        "**using RBF**"
      ],
      "id": "hFYcMMBwMLUY"
    },
    {
      "cell_type": "code",
      "metadata": {
        "colab": {
          "base_uri": "https://localhost:8080/"
        },
        "id": "g4OEZ_FcuuOe",
        "outputId": "fcc2927e-a69e-4a06-a527-9e61dd72e61a"
      },
      "source": [
        "\n",
        "param_grid = {'C': [1, 10, 100], 'gamma': [0.01,0.001,0.0001], 'kernel': ['rbf']} \n",
        "grid = GridSearchCV(SVR(),param_grid,refit=True,verbose=3)\n",
        "grid.fit(np.array(x_train).reshape(-1,1),np.array(y_train).reshape(-1,1))"
      ],
      "id": "g4OEZ_FcuuOe",
      "execution_count": null,
      "outputs": [
        {
          "output_type": "stream",
          "text": [
            "Fitting 5 folds for each of 9 candidates, totalling 45 fits\n",
            "[CV] C=1, gamma=0.01, kernel=rbf .....................................\n"
          ],
          "name": "stdout"
        },
        {
          "output_type": "stream",
          "text": [
            "[Parallel(n_jobs=1)]: Using backend SequentialBackend with 1 concurrent workers.\n",
            "/usr/local/lib/python3.7/dist-packages/sklearn/utils/validation.py:760: DataConversionWarning: A column-vector y was passed when a 1d array was expected. Please change the shape of y to (n_samples, ), for example using ravel().\n",
            "  y = column_or_1d(y, warn=True)\n"
          ],
          "name": "stderr"
        },
        {
          "output_type": "stream",
          "text": [
            "[CV] ........ C=1, gamma=0.01, kernel=rbf, score=-0.063, total=   1.8s\n",
            "[CV] C=1, gamma=0.01, kernel=rbf .....................................\n"
          ],
          "name": "stdout"
        },
        {
          "output_type": "stream",
          "text": [
            "[Parallel(n_jobs=1)]: Done   1 out of   1 | elapsed:    1.8s remaining:    0.0s\n",
            "/usr/local/lib/python3.7/dist-packages/sklearn/utils/validation.py:760: DataConversionWarning: A column-vector y was passed when a 1d array was expected. Please change the shape of y to (n_samples, ), for example using ravel().\n",
            "  y = column_or_1d(y, warn=True)\n"
          ],
          "name": "stderr"
        },
        {
          "output_type": "stream",
          "text": [
            "[CV] ........ C=1, gamma=0.01, kernel=rbf, score=-0.061, total=   1.8s\n",
            "[CV] C=1, gamma=0.01, kernel=rbf .....................................\n"
          ],
          "name": "stdout"
        },
        {
          "output_type": "stream",
          "text": [
            "[Parallel(n_jobs=1)]: Done   2 out of   2 | elapsed:    3.7s remaining:    0.0s\n",
            "/usr/local/lib/python3.7/dist-packages/sklearn/utils/validation.py:760: DataConversionWarning: A column-vector y was passed when a 1d array was expected. Please change the shape of y to (n_samples, ), for example using ravel().\n",
            "  y = column_or_1d(y, warn=True)\n"
          ],
          "name": "stderr"
        },
        {
          "output_type": "stream",
          "text": [
            "[CV] ........ C=1, gamma=0.01, kernel=rbf, score=-0.068, total=   1.9s\n",
            "[CV] C=1, gamma=0.01, kernel=rbf .....................................\n"
          ],
          "name": "stdout"
        },
        {
          "output_type": "stream",
          "text": [
            "/usr/local/lib/python3.7/dist-packages/sklearn/utils/validation.py:760: DataConversionWarning: A column-vector y was passed when a 1d array was expected. Please change the shape of y to (n_samples, ), for example using ravel().\n",
            "  y = column_or_1d(y, warn=True)\n"
          ],
          "name": "stderr"
        },
        {
          "output_type": "stream",
          "text": [
            "[CV] ........ C=1, gamma=0.01, kernel=rbf, score=-0.086, total=   1.9s\n",
            "[CV] C=1, gamma=0.01, kernel=rbf .....................................\n"
          ],
          "name": "stdout"
        },
        {
          "output_type": "stream",
          "text": [
            "/usr/local/lib/python3.7/dist-packages/sklearn/utils/validation.py:760: DataConversionWarning: A column-vector y was passed when a 1d array was expected. Please change the shape of y to (n_samples, ), for example using ravel().\n",
            "  y = column_or_1d(y, warn=True)\n"
          ],
          "name": "stderr"
        },
        {
          "output_type": "stream",
          "text": [
            "[CV] ........ C=1, gamma=0.01, kernel=rbf, score=-0.056, total=   1.8s\n",
            "[CV] C=1, gamma=0.001, kernel=rbf ....................................\n"
          ],
          "name": "stdout"
        },
        {
          "output_type": "stream",
          "text": [
            "/usr/local/lib/python3.7/dist-packages/sklearn/utils/validation.py:760: DataConversionWarning: A column-vector y was passed when a 1d array was expected. Please change the shape of y to (n_samples, ), for example using ravel().\n",
            "  y = column_or_1d(y, warn=True)\n"
          ],
          "name": "stderr"
        },
        {
          "output_type": "stream",
          "text": [
            "[CV] ....... C=1, gamma=0.001, kernel=rbf, score=-0.063, total=   1.9s\n",
            "[CV] C=1, gamma=0.001, kernel=rbf ....................................\n"
          ],
          "name": "stdout"
        },
        {
          "output_type": "stream",
          "text": [
            "/usr/local/lib/python3.7/dist-packages/sklearn/utils/validation.py:760: DataConversionWarning: A column-vector y was passed when a 1d array was expected. Please change the shape of y to (n_samples, ), for example using ravel().\n",
            "  y = column_or_1d(y, warn=True)\n"
          ],
          "name": "stderr"
        },
        {
          "output_type": "stream",
          "text": [
            "[CV] ....... C=1, gamma=0.001, kernel=rbf, score=-0.061, total=   2.0s\n",
            "[CV] C=1, gamma=0.001, kernel=rbf ....................................\n"
          ],
          "name": "stdout"
        },
        {
          "output_type": "stream",
          "text": [
            "/usr/local/lib/python3.7/dist-packages/sklearn/utils/validation.py:760: DataConversionWarning: A column-vector y was passed when a 1d array was expected. Please change the shape of y to (n_samples, ), for example using ravel().\n",
            "  y = column_or_1d(y, warn=True)\n"
          ],
          "name": "stderr"
        },
        {
          "output_type": "stream",
          "text": [
            "[CV] ....... C=1, gamma=0.001, kernel=rbf, score=-0.068, total=   1.9s\n",
            "[CV] C=1, gamma=0.001, kernel=rbf ....................................\n"
          ],
          "name": "stdout"
        },
        {
          "output_type": "stream",
          "text": [
            "/usr/local/lib/python3.7/dist-packages/sklearn/utils/validation.py:760: DataConversionWarning: A column-vector y was passed when a 1d array was expected. Please change the shape of y to (n_samples, ), for example using ravel().\n",
            "  y = column_or_1d(y, warn=True)\n"
          ],
          "name": "stderr"
        },
        {
          "output_type": "stream",
          "text": [
            "[CV] ....... C=1, gamma=0.001, kernel=rbf, score=-0.086, total=   1.9s\n",
            "[CV] C=1, gamma=0.001, kernel=rbf ....................................\n"
          ],
          "name": "stdout"
        },
        {
          "output_type": "stream",
          "text": [
            "/usr/local/lib/python3.7/dist-packages/sklearn/utils/validation.py:760: DataConversionWarning: A column-vector y was passed when a 1d array was expected. Please change the shape of y to (n_samples, ), for example using ravel().\n",
            "  y = column_or_1d(y, warn=True)\n"
          ],
          "name": "stderr"
        },
        {
          "output_type": "stream",
          "text": [
            "[CV] ....... C=1, gamma=0.001, kernel=rbf, score=-0.056, total=   1.9s\n",
            "[CV] C=1, gamma=0.0001, kernel=rbf ...................................\n"
          ],
          "name": "stdout"
        },
        {
          "output_type": "stream",
          "text": [
            "/usr/local/lib/python3.7/dist-packages/sklearn/utils/validation.py:760: DataConversionWarning: A column-vector y was passed when a 1d array was expected. Please change the shape of y to (n_samples, ), for example using ravel().\n",
            "  y = column_or_1d(y, warn=True)\n"
          ],
          "name": "stderr"
        },
        {
          "output_type": "stream",
          "text": [
            "[CV] ...... C=1, gamma=0.0001, kernel=rbf, score=-0.063, total=   2.1s\n",
            "[CV] C=1, gamma=0.0001, kernel=rbf ...................................\n"
          ],
          "name": "stdout"
        },
        {
          "output_type": "stream",
          "text": [
            "/usr/local/lib/python3.7/dist-packages/sklearn/utils/validation.py:760: DataConversionWarning: A column-vector y was passed when a 1d array was expected. Please change the shape of y to (n_samples, ), for example using ravel().\n",
            "  y = column_or_1d(y, warn=True)\n"
          ],
          "name": "stderr"
        },
        {
          "output_type": "stream",
          "text": [
            "[CV] ...... C=1, gamma=0.0001, kernel=rbf, score=-0.061, total=   2.1s\n",
            "[CV] C=1, gamma=0.0001, kernel=rbf ...................................\n"
          ],
          "name": "stdout"
        },
        {
          "output_type": "stream",
          "text": [
            "/usr/local/lib/python3.7/dist-packages/sklearn/utils/validation.py:760: DataConversionWarning: A column-vector y was passed when a 1d array was expected. Please change the shape of y to (n_samples, ), for example using ravel().\n",
            "  y = column_or_1d(y, warn=True)\n"
          ],
          "name": "stderr"
        },
        {
          "output_type": "stream",
          "text": [
            "[CV] ...... C=1, gamma=0.0001, kernel=rbf, score=-0.068, total=   2.1s\n",
            "[CV] C=1, gamma=0.0001, kernel=rbf ...................................\n"
          ],
          "name": "stdout"
        },
        {
          "output_type": "stream",
          "text": [
            "/usr/local/lib/python3.7/dist-packages/sklearn/utils/validation.py:760: DataConversionWarning: A column-vector y was passed when a 1d array was expected. Please change the shape of y to (n_samples, ), for example using ravel().\n",
            "  y = column_or_1d(y, warn=True)\n"
          ],
          "name": "stderr"
        },
        {
          "output_type": "stream",
          "text": [
            "[CV] ...... C=1, gamma=0.0001, kernel=rbf, score=-0.086, total=   2.1s\n",
            "[CV] C=1, gamma=0.0001, kernel=rbf ...................................\n"
          ],
          "name": "stdout"
        },
        {
          "output_type": "stream",
          "text": [
            "/usr/local/lib/python3.7/dist-packages/sklearn/utils/validation.py:760: DataConversionWarning: A column-vector y was passed when a 1d array was expected. Please change the shape of y to (n_samples, ), for example using ravel().\n",
            "  y = column_or_1d(y, warn=True)\n"
          ],
          "name": "stderr"
        },
        {
          "output_type": "stream",
          "text": [
            "[CV] ...... C=1, gamma=0.0001, kernel=rbf, score=-0.056, total=   2.1s\n",
            "[CV] C=10, gamma=0.01, kernel=rbf ....................................\n"
          ],
          "name": "stdout"
        },
        {
          "output_type": "stream",
          "text": [
            "/usr/local/lib/python3.7/dist-packages/sklearn/utils/validation.py:760: DataConversionWarning: A column-vector y was passed when a 1d array was expected. Please change the shape of y to (n_samples, ), for example using ravel().\n",
            "  y = column_or_1d(y, warn=True)\n"
          ],
          "name": "stderr"
        },
        {
          "output_type": "stream",
          "text": [
            "[CV] ....... C=10, gamma=0.01, kernel=rbf, score=-0.063, total=   1.9s\n",
            "[CV] C=10, gamma=0.01, kernel=rbf ....................................\n"
          ],
          "name": "stdout"
        },
        {
          "output_type": "stream",
          "text": [
            "/usr/local/lib/python3.7/dist-packages/sklearn/utils/validation.py:760: DataConversionWarning: A column-vector y was passed when a 1d array was expected. Please change the shape of y to (n_samples, ), for example using ravel().\n",
            "  y = column_or_1d(y, warn=True)\n"
          ],
          "name": "stderr"
        },
        {
          "output_type": "stream",
          "text": [
            "[CV] ....... C=10, gamma=0.01, kernel=rbf, score=-0.061, total=   1.8s\n",
            "[CV] C=10, gamma=0.01, kernel=rbf ....................................\n"
          ],
          "name": "stdout"
        },
        {
          "output_type": "stream",
          "text": [
            "/usr/local/lib/python3.7/dist-packages/sklearn/utils/validation.py:760: DataConversionWarning: A column-vector y was passed when a 1d array was expected. Please change the shape of y to (n_samples, ), for example using ravel().\n",
            "  y = column_or_1d(y, warn=True)\n"
          ],
          "name": "stderr"
        },
        {
          "output_type": "stream",
          "text": [
            "[CV] ....... C=10, gamma=0.01, kernel=rbf, score=-0.068, total=   1.8s\n",
            "[CV] C=10, gamma=0.01, kernel=rbf ....................................\n"
          ],
          "name": "stdout"
        },
        {
          "output_type": "stream",
          "text": [
            "/usr/local/lib/python3.7/dist-packages/sklearn/utils/validation.py:760: DataConversionWarning: A column-vector y was passed when a 1d array was expected. Please change the shape of y to (n_samples, ), for example using ravel().\n",
            "  y = column_or_1d(y, warn=True)\n"
          ],
          "name": "stderr"
        },
        {
          "output_type": "stream",
          "text": [
            "[CV] ....... C=10, gamma=0.01, kernel=rbf, score=-0.086, total=   1.9s\n",
            "[CV] C=10, gamma=0.01, kernel=rbf ....................................\n"
          ],
          "name": "stdout"
        },
        {
          "output_type": "stream",
          "text": [
            "/usr/local/lib/python3.7/dist-packages/sklearn/utils/validation.py:760: DataConversionWarning: A column-vector y was passed when a 1d array was expected. Please change the shape of y to (n_samples, ), for example using ravel().\n",
            "  y = column_or_1d(y, warn=True)\n"
          ],
          "name": "stderr"
        },
        {
          "output_type": "stream",
          "text": [
            "[CV] ....... C=10, gamma=0.01, kernel=rbf, score=-0.056, total=   1.8s\n",
            "[CV] C=10, gamma=0.001, kernel=rbf ...................................\n"
          ],
          "name": "stdout"
        },
        {
          "output_type": "stream",
          "text": [
            "/usr/local/lib/python3.7/dist-packages/sklearn/utils/validation.py:760: DataConversionWarning: A column-vector y was passed when a 1d array was expected. Please change the shape of y to (n_samples, ), for example using ravel().\n",
            "  y = column_or_1d(y, warn=True)\n"
          ],
          "name": "stderr"
        },
        {
          "output_type": "stream",
          "text": [
            "[CV] ...... C=10, gamma=0.001, kernel=rbf, score=-0.063, total=   2.0s\n",
            "[CV] C=10, gamma=0.001, kernel=rbf ...................................\n"
          ],
          "name": "stdout"
        },
        {
          "output_type": "stream",
          "text": [
            "/usr/local/lib/python3.7/dist-packages/sklearn/utils/validation.py:760: DataConversionWarning: A column-vector y was passed when a 1d array was expected. Please change the shape of y to (n_samples, ), for example using ravel().\n",
            "  y = column_or_1d(y, warn=True)\n"
          ],
          "name": "stderr"
        },
        {
          "output_type": "stream",
          "text": [
            "[CV] ...... C=10, gamma=0.001, kernel=rbf, score=-0.061, total=   1.9s\n",
            "[CV] C=10, gamma=0.001, kernel=rbf ...................................\n"
          ],
          "name": "stdout"
        },
        {
          "output_type": "stream",
          "text": [
            "/usr/local/lib/python3.7/dist-packages/sklearn/utils/validation.py:760: DataConversionWarning: A column-vector y was passed when a 1d array was expected. Please change the shape of y to (n_samples, ), for example using ravel().\n",
            "  y = column_or_1d(y, warn=True)\n"
          ],
          "name": "stderr"
        },
        {
          "output_type": "stream",
          "text": [
            "[CV] ...... C=10, gamma=0.001, kernel=rbf, score=-0.068, total=   1.9s\n",
            "[CV] C=10, gamma=0.001, kernel=rbf ...................................\n"
          ],
          "name": "stdout"
        },
        {
          "output_type": "stream",
          "text": [
            "/usr/local/lib/python3.7/dist-packages/sklearn/utils/validation.py:760: DataConversionWarning: A column-vector y was passed when a 1d array was expected. Please change the shape of y to (n_samples, ), for example using ravel().\n",
            "  y = column_or_1d(y, warn=True)\n"
          ],
          "name": "stderr"
        },
        {
          "output_type": "stream",
          "text": [
            "[CV] ...... C=10, gamma=0.001, kernel=rbf, score=-0.086, total=   1.9s\n",
            "[CV] C=10, gamma=0.001, kernel=rbf ...................................\n"
          ],
          "name": "stdout"
        },
        {
          "output_type": "stream",
          "text": [
            "/usr/local/lib/python3.7/dist-packages/sklearn/utils/validation.py:760: DataConversionWarning: A column-vector y was passed when a 1d array was expected. Please change the shape of y to (n_samples, ), for example using ravel().\n",
            "  y = column_or_1d(y, warn=True)\n"
          ],
          "name": "stderr"
        },
        {
          "output_type": "stream",
          "text": [
            "[CV] ...... C=10, gamma=0.001, kernel=rbf, score=-0.056, total=   1.9s\n",
            "[CV] C=10, gamma=0.0001, kernel=rbf ..................................\n"
          ],
          "name": "stdout"
        },
        {
          "output_type": "stream",
          "text": [
            "/usr/local/lib/python3.7/dist-packages/sklearn/utils/validation.py:760: DataConversionWarning: A column-vector y was passed when a 1d array was expected. Please change the shape of y to (n_samples, ), for example using ravel().\n",
            "  y = column_or_1d(y, warn=True)\n"
          ],
          "name": "stderr"
        },
        {
          "output_type": "stream",
          "text": [
            "[CV] ..... C=10, gamma=0.0001, kernel=rbf, score=-0.062, total=   2.1s\n",
            "[CV] C=10, gamma=0.0001, kernel=rbf ..................................\n"
          ],
          "name": "stdout"
        },
        {
          "output_type": "stream",
          "text": [
            "/usr/local/lib/python3.7/dist-packages/sklearn/utils/validation.py:760: DataConversionWarning: A column-vector y was passed when a 1d array was expected. Please change the shape of y to (n_samples, ), for example using ravel().\n",
            "  y = column_or_1d(y, warn=True)\n"
          ],
          "name": "stderr"
        },
        {
          "output_type": "stream",
          "text": [
            "[CV] ..... C=10, gamma=0.0001, kernel=rbf, score=-0.060, total=   2.1s\n",
            "[CV] C=10, gamma=0.0001, kernel=rbf ..................................\n"
          ],
          "name": "stdout"
        },
        {
          "output_type": "stream",
          "text": [
            "/usr/local/lib/python3.7/dist-packages/sklearn/utils/validation.py:760: DataConversionWarning: A column-vector y was passed when a 1d array was expected. Please change the shape of y to (n_samples, ), for example using ravel().\n",
            "  y = column_or_1d(y, warn=True)\n"
          ],
          "name": "stderr"
        },
        {
          "output_type": "stream",
          "text": [
            "[CV] ..... C=10, gamma=0.0001, kernel=rbf, score=-0.067, total=   2.1s\n",
            "[CV] C=10, gamma=0.0001, kernel=rbf ..................................\n"
          ],
          "name": "stdout"
        },
        {
          "output_type": "stream",
          "text": [
            "/usr/local/lib/python3.7/dist-packages/sklearn/utils/validation.py:760: DataConversionWarning: A column-vector y was passed when a 1d array was expected. Please change the shape of y to (n_samples, ), for example using ravel().\n",
            "  y = column_or_1d(y, warn=True)\n"
          ],
          "name": "stderr"
        },
        {
          "output_type": "stream",
          "text": [
            "[CV] ..... C=10, gamma=0.0001, kernel=rbf, score=-0.084, total=   2.1s\n",
            "[CV] C=10, gamma=0.0001, kernel=rbf ..................................\n"
          ],
          "name": "stdout"
        },
        {
          "output_type": "stream",
          "text": [
            "/usr/local/lib/python3.7/dist-packages/sklearn/utils/validation.py:760: DataConversionWarning: A column-vector y was passed when a 1d array was expected. Please change the shape of y to (n_samples, ), for example using ravel().\n",
            "  y = column_or_1d(y, warn=True)\n"
          ],
          "name": "stderr"
        },
        {
          "output_type": "stream",
          "text": [
            "[CV] ..... C=10, gamma=0.0001, kernel=rbf, score=-0.055, total=   2.1s\n",
            "[CV] C=100, gamma=0.01, kernel=rbf ...................................\n"
          ],
          "name": "stdout"
        },
        {
          "output_type": "stream",
          "text": [
            "/usr/local/lib/python3.7/dist-packages/sklearn/utils/validation.py:760: DataConversionWarning: A column-vector y was passed when a 1d array was expected. Please change the shape of y to (n_samples, ), for example using ravel().\n",
            "  y = column_or_1d(y, warn=True)\n"
          ],
          "name": "stderr"
        },
        {
          "output_type": "stream",
          "text": [
            "[CV] ...... C=100, gamma=0.01, kernel=rbf, score=-0.062, total=   1.9s\n",
            "[CV] C=100, gamma=0.01, kernel=rbf ...................................\n"
          ],
          "name": "stdout"
        },
        {
          "output_type": "stream",
          "text": [
            "/usr/local/lib/python3.7/dist-packages/sklearn/utils/validation.py:760: DataConversionWarning: A column-vector y was passed when a 1d array was expected. Please change the shape of y to (n_samples, ), for example using ravel().\n",
            "  y = column_or_1d(y, warn=True)\n"
          ],
          "name": "stderr"
        },
        {
          "output_type": "stream",
          "text": [
            "[CV] ...... C=100, gamma=0.01, kernel=rbf, score=-0.060, total=   1.9s\n",
            "[CV] C=100, gamma=0.01, kernel=rbf ...................................\n"
          ],
          "name": "stdout"
        },
        {
          "output_type": "stream",
          "text": [
            "/usr/local/lib/python3.7/dist-packages/sklearn/utils/validation.py:760: DataConversionWarning: A column-vector y was passed when a 1d array was expected. Please change the shape of y to (n_samples, ), for example using ravel().\n",
            "  y = column_or_1d(y, warn=True)\n"
          ],
          "name": "stderr"
        },
        {
          "output_type": "stream",
          "text": [
            "[CV] ...... C=100, gamma=0.01, kernel=rbf, score=-0.067, total=   1.9s\n",
            "[CV] C=100, gamma=0.01, kernel=rbf ...................................\n"
          ],
          "name": "stdout"
        },
        {
          "output_type": "stream",
          "text": [
            "/usr/local/lib/python3.7/dist-packages/sklearn/utils/validation.py:760: DataConversionWarning: A column-vector y was passed when a 1d array was expected. Please change the shape of y to (n_samples, ), for example using ravel().\n",
            "  y = column_or_1d(y, warn=True)\n"
          ],
          "name": "stderr"
        },
        {
          "output_type": "stream",
          "text": [
            "[CV] ...... C=100, gamma=0.01, kernel=rbf, score=-0.084, total=   1.9s\n",
            "[CV] C=100, gamma=0.01, kernel=rbf ...................................\n"
          ],
          "name": "stdout"
        },
        {
          "output_type": "stream",
          "text": [
            "/usr/local/lib/python3.7/dist-packages/sklearn/utils/validation.py:760: DataConversionWarning: A column-vector y was passed when a 1d array was expected. Please change the shape of y to (n_samples, ), for example using ravel().\n",
            "  y = column_or_1d(y, warn=True)\n"
          ],
          "name": "stderr"
        },
        {
          "output_type": "stream",
          "text": [
            "[CV] ...... C=100, gamma=0.01, kernel=rbf, score=-0.055, total=   1.9s\n",
            "[CV] C=100, gamma=0.001, kernel=rbf ..................................\n"
          ],
          "name": "stdout"
        },
        {
          "output_type": "stream",
          "text": [
            "/usr/local/lib/python3.7/dist-packages/sklearn/utils/validation.py:760: DataConversionWarning: A column-vector y was passed when a 1d array was expected. Please change the shape of y to (n_samples, ), for example using ravel().\n",
            "  y = column_or_1d(y, warn=True)\n"
          ],
          "name": "stderr"
        },
        {
          "output_type": "stream",
          "text": [
            "[CV] ..... C=100, gamma=0.001, kernel=rbf, score=-0.058, total=   2.0s\n",
            "[CV] C=100, gamma=0.001, kernel=rbf ..................................\n"
          ],
          "name": "stdout"
        },
        {
          "output_type": "stream",
          "text": [
            "/usr/local/lib/python3.7/dist-packages/sklearn/utils/validation.py:760: DataConversionWarning: A column-vector y was passed when a 1d array was expected. Please change the shape of y to (n_samples, ), for example using ravel().\n",
            "  y = column_or_1d(y, warn=True)\n"
          ],
          "name": "stderr"
        },
        {
          "output_type": "stream",
          "text": [
            "[CV] ..... C=100, gamma=0.001, kernel=rbf, score=-0.057, total=   2.0s\n",
            "[CV] C=100, gamma=0.001, kernel=rbf ..................................\n"
          ],
          "name": "stdout"
        },
        {
          "output_type": "stream",
          "text": [
            "/usr/local/lib/python3.7/dist-packages/sklearn/utils/validation.py:760: DataConversionWarning: A column-vector y was passed when a 1d array was expected. Please change the shape of y to (n_samples, ), for example using ravel().\n",
            "  y = column_or_1d(y, warn=True)\n"
          ],
          "name": "stderr"
        },
        {
          "output_type": "stream",
          "text": [
            "[CV] ..... C=100, gamma=0.001, kernel=rbf, score=-0.063, total=   2.0s\n",
            "[CV] C=100, gamma=0.001, kernel=rbf ..................................\n"
          ],
          "name": "stdout"
        },
        {
          "output_type": "stream",
          "text": [
            "/usr/local/lib/python3.7/dist-packages/sklearn/utils/validation.py:760: DataConversionWarning: A column-vector y was passed when a 1d array was expected. Please change the shape of y to (n_samples, ), for example using ravel().\n",
            "  y = column_or_1d(y, warn=True)\n"
          ],
          "name": "stderr"
        },
        {
          "output_type": "stream",
          "text": [
            "[CV] ..... C=100, gamma=0.001, kernel=rbf, score=-0.079, total=   2.0s\n",
            "[CV] C=100, gamma=0.001, kernel=rbf ..................................\n"
          ],
          "name": "stdout"
        },
        {
          "output_type": "stream",
          "text": [
            "/usr/local/lib/python3.7/dist-packages/sklearn/utils/validation.py:760: DataConversionWarning: A column-vector y was passed when a 1d array was expected. Please change the shape of y to (n_samples, ), for example using ravel().\n",
            "  y = column_or_1d(y, warn=True)\n"
          ],
          "name": "stderr"
        },
        {
          "output_type": "stream",
          "text": [
            "[CV] ..... C=100, gamma=0.001, kernel=rbf, score=-0.052, total=   2.0s\n",
            "[CV] C=100, gamma=0.0001, kernel=rbf .................................\n"
          ],
          "name": "stdout"
        },
        {
          "output_type": "stream",
          "text": [
            "/usr/local/lib/python3.7/dist-packages/sklearn/utils/validation.py:760: DataConversionWarning: A column-vector y was passed when a 1d array was expected. Please change the shape of y to (n_samples, ), for example using ravel().\n",
            "  y = column_or_1d(y, warn=True)\n"
          ],
          "name": "stderr"
        },
        {
          "output_type": "stream",
          "text": [
            "[CV] .... C=100, gamma=0.0001, kernel=rbf, score=-0.053, total=   2.2s\n",
            "[CV] C=100, gamma=0.0001, kernel=rbf .................................\n"
          ],
          "name": "stdout"
        },
        {
          "output_type": "stream",
          "text": [
            "/usr/local/lib/python3.7/dist-packages/sklearn/utils/validation.py:760: DataConversionWarning: A column-vector y was passed when a 1d array was expected. Please change the shape of y to (n_samples, ), for example using ravel().\n",
            "  y = column_or_1d(y, warn=True)\n"
          ],
          "name": "stderr"
        },
        {
          "output_type": "stream",
          "text": [
            "[CV] .... C=100, gamma=0.0001, kernel=rbf, score=-0.051, total=   2.2s\n",
            "[CV] C=100, gamma=0.0001, kernel=rbf .................................\n"
          ],
          "name": "stdout"
        },
        {
          "output_type": "stream",
          "text": [
            "/usr/local/lib/python3.7/dist-packages/sklearn/utils/validation.py:760: DataConversionWarning: A column-vector y was passed when a 1d array was expected. Please change the shape of y to (n_samples, ), for example using ravel().\n",
            "  y = column_or_1d(y, warn=True)\n"
          ],
          "name": "stderr"
        },
        {
          "output_type": "stream",
          "text": [
            "[CV] .... C=100, gamma=0.0001, kernel=rbf, score=-0.057, total=   2.1s\n",
            "[CV] C=100, gamma=0.0001, kernel=rbf .................................\n"
          ],
          "name": "stdout"
        },
        {
          "output_type": "stream",
          "text": [
            "/usr/local/lib/python3.7/dist-packages/sklearn/utils/validation.py:760: DataConversionWarning: A column-vector y was passed when a 1d array was expected. Please change the shape of y to (n_samples, ), for example using ravel().\n",
            "  y = column_or_1d(y, warn=True)\n"
          ],
          "name": "stderr"
        },
        {
          "output_type": "stream",
          "text": [
            "[CV] .... C=100, gamma=0.0001, kernel=rbf, score=-0.070, total=   2.1s\n",
            "[CV] C=100, gamma=0.0001, kernel=rbf .................................\n"
          ],
          "name": "stdout"
        },
        {
          "output_type": "stream",
          "text": [
            "/usr/local/lib/python3.7/dist-packages/sklearn/utils/validation.py:760: DataConversionWarning: A column-vector y was passed when a 1d array was expected. Please change the shape of y to (n_samples, ), for example using ravel().\n",
            "  y = column_or_1d(y, warn=True)\n"
          ],
          "name": "stderr"
        },
        {
          "output_type": "stream",
          "text": [
            "[CV] .... C=100, gamma=0.0001, kernel=rbf, score=-0.047, total=   2.2s\n"
          ],
          "name": "stdout"
        },
        {
          "output_type": "stream",
          "text": [
            "[Parallel(n_jobs=1)]: Done  45 out of  45 | elapsed:  1.5min finished\n",
            "/usr/local/lib/python3.7/dist-packages/sklearn/utils/validation.py:760: DataConversionWarning: A column-vector y was passed when a 1d array was expected. Please change the shape of y to (n_samples, ), for example using ravel().\n",
            "  y = column_or_1d(y, warn=True)\n"
          ],
          "name": "stderr"
        },
        {
          "output_type": "execute_result",
          "data": {
            "text/plain": [
              "GridSearchCV(cv=None, error_score=nan,\n",
              "             estimator=SVR(C=1.0, cache_size=200, coef0=0.0, degree=3,\n",
              "                           epsilon=0.1, gamma='scale', kernel='rbf',\n",
              "                           max_iter=-1, shrinking=True, tol=0.001,\n",
              "                           verbose=False),\n",
              "             iid='deprecated', n_jobs=None,\n",
              "             param_grid={'C': [1, 10, 100], 'gamma': [0.01, 0.001, 0.0001],\n",
              "                         'kernel': ['rbf']},\n",
              "             pre_dispatch='2*n_jobs', refit=True, return_train_score=False,\n",
              "             scoring=None, verbose=3)"
            ]
          },
          "metadata": {
            "tags": []
          },
          "execution_count": 53
        }
      ]
    },
    {
      "cell_type": "code",
      "metadata": {
        "id": "4KfFSKTyOMpq"
      },
      "source": [
        "grid.best_params_\n",
        "grid.best_estimator_\n",
        "grid_predictions = grid.predict(np.array(x_test).reshape(-1,1))"
      ],
      "id": "4KfFSKTyOMpq",
      "execution_count": null,
      "outputs": []
    },
    {
      "cell_type": "code",
      "metadata": {
        "colab": {
          "base_uri": "https://localhost:8080/"
        },
        "id": "w8DF0GQVOfGa",
        "outputId": "75727e83-5ee3-4abe-9c37-d715d46a12c7"
      },
      "source": [
        "print('MAE:', metrics.mean_absolute_error(y_test, grid_predictions))\n",
        "print('RMSE:', np.sqrt(metrics.mean_squared_error(y_test, grid_predictions)))\n",
        "print('R2_Score: ', metrics.r2_score(y_test, grid_predictions))"
      ],
      "id": "w8DF0GQVOfGa",
      "execution_count": null,
      "outputs": [
        {
          "output_type": "stream",
          "text": [
            "MAE: 36361.24018640337\n",
            "RMSE: 132455.91487302986\n",
            "R2_Score:  -0.06548175011196222\n"
          ],
          "name": "stdout"
        }
      ]
    },
    {
      "cell_type": "code",
      "metadata": {
        "colab": {
          "base_uri": "https://localhost:8080/",
          "height": 404
        },
        "id": "KB0voOHWOkqd",
        "outputId": "9f4c90ec-0cc1-45b9-bc1a-05c527a6b0b2"
      },
      "source": [
        "fig = plt.figure(figsize=(12, 6))\n",
        "plt.scatter(y_test,grid_predictions,color='coral', linewidths=2, edgecolors='k')\n",
        "plt.xlabel('GDP') \n",
        "plt.ylabel('Predictions') \n",
        "plt.title('Optimized SVM prediction Performance') \n",
        "plt.grid()\n",
        "plt.show()"
      ],
      "id": "KB0voOHWOkqd",
      "execution_count": null,
      "outputs": [
        {
          "output_type": "display_data",
          "data": {
            "image/png": "[encoded data removed]",
            "text/plain": [
              "<Figure size 864x432 with 1 Axes>"
            ]
          },
          "metadata": {
            "tags": []
          }
        }
      ]
    },
    {
      "cell_type": "markdown",
      "metadata": {
        "id": "phIkpA8z-LOa"
      },
      "source": [
        "**random forest**"
      ],
      "id": "phIkpA8z-LOa"
    },
    {
      "cell_type": "code",
      "metadata": {
        "id": "EB3r_E77_O2X"
      },
      "source": [
        "from sklearn.ensemble import RandomForestRegressor\n",
        "from sklearn.preprocessing import StandardScaler"
      ],
      "id": "EB3r_E77_O2X",
      "execution_count": null,
      "outputs": []
    },
    {
      "cell_type": "code",
      "metadata": {
        "id": "DpOQlWzqP_ac"
      },
      "source": [
        "y = data['EXPORTS']\n",
        "X = data['GDP']\n",
        "x_train, x_test, y_train, y_test = train_test_split(X, y, test_size=0.2, random_state=101)"
      ],
      "id": "DpOQlWzqP_ac",
      "execution_count": null,
      "outputs": []
    },
    {
      "cell_type": "code",
      "metadata": {
        "id": "A_MTwFDcQU53"
      },
      "source": [
        "sc_X = StandardScaler()\n",
        "\n",
        "x1_train = sc_X.fit_transform(np.array(x_train).reshape(-1,1))\n",
        "x1_test = sc_X.fit_transform(np.array(x_test).reshape(-1,1))\n",
        "y1_train = y_train\n",
        "y1_test = y_test"
      ],
      "id": "A_MTwFDcQU53",
      "execution_count": null,
      "outputs": []
    },
    {
      "cell_type": "code",
      "metadata": {
        "colab": {
          "base_uri": "https://localhost:8080/"
        },
        "id": "lq34IbhKRGhL",
        "outputId": "dcbd20b9-4af4-42fc-b600-8467e3f66b0e"
      },
      "source": [
        "rf1 = RandomForestRegressor(random_state=101, n_estimators=200)\n",
        "rf2 = RandomForestRegressor(random_state=101, n_estimators=200)\n",
        "\n",
        "rf1.fit((np.array(x_train).reshape(-1,1)), (np.array(y_train).reshape(-1,1)))\n",
        "rf2.fit(x1_train, y1_train)"
      ],
      "id": "lq34IbhKRGhL",
      "execution_count": null,
      "outputs": [
        {
          "output_type": "stream",
          "text": [
            "/usr/local/lib/python3.7/dist-packages/ipykernel_launcher.py:4: DataConversionWarning: A column-vector y was passed when a 1d array was expected. Please change the shape of y to (n_samples,), for example using ravel().\n",
            "  after removing the cwd from sys.path.\n"
          ],
          "name": "stderr"
        },
        {
          "output_type": "execute_result",
          "data": {
            "text/plain": [
              "RandomForestRegressor(bootstrap=True, ccp_alpha=0.0, criterion='mse',\n",
              "                      max_depth=None, max_features='auto', max_leaf_nodes=None,\n",
              "                      max_samples=None, min_impurity_decrease=0.0,\n",
              "                      min_impurity_split=None, min_samples_leaf=1,\n",
              "                      min_samples_split=2, min_weight_fraction_leaf=0.0,\n",
              "                      n_estimators=200, n_jobs=None, oob_score=False,\n",
              "                      random_state=101, verbose=0, warm_start=False)"
            ]
          },
          "metadata": {
            "tags": []
          },
          "execution_count": 60
        }
      ]
    },
    {
      "cell_type": "code",
      "metadata": {
        "id": "Eu6S0jq8R7Xd"
      },
      "source": [
        "rf1_pred = rf1.predict(np.array(x_test).reshape(-1,1))\n",
        "rf2_pred = rf2.predict(x1_test)"
      ],
      "id": "Eu6S0jq8R7Xd",
      "execution_count": null,
      "outputs": []
    },
    {
      "cell_type": "code",
      "metadata": {
        "colab": {
          "base_uri": "https://localhost:8080/"
        },
        "id": "3K8mH3BsSOjN",
        "outputId": "9638cf5f-89a8-4f4e-9577-de8b481cf4cb"
      },
      "source": [
        "\n",
        "print('Random Forest Performance:')\n",
        "\n",
        "\n",
        "print('MAE:', metrics.mean_absolute_error(y_test, rf1_pred))\n",
        "print('RMSE:', np.sqrt(metrics.mean_squared_error(y_test, rf1_pred)))\n",
        "print('R2_Score: ', metrics.r2_score(y_test, rf1_pred))\n",
        "\n",
        "print('\\nselected features, No scaling:')\n",
        "print('MAE:', metrics.mean_absolute_error(y1_test, rf2_pred))\n",
        "print('RMSE:', np.sqrt(metrics.mean_squared_error(y1_test, rf2_pred)))\n",
        "print('R2_Score: ', metrics.r2_score(y1_test, rf2_pred))"
      ],
      "id": "3K8mH3BsSOjN",
      "execution_count": null,
      "outputs": [
        {
          "output_type": "stream",
          "text": [
            "Random Forest Performance:\n",
            "MAE: 21370.91131006776\n",
            "RMSE: 88008.0933077725\n",
            "R2_Score:  0.6679136640658603\n",
            "\n",
            "selected features, No scaling:\n",
            "MAE: 21746.430775637662\n",
            "RMSE: 83181.83514848717\n",
            "R2_Score:  0.703337414658167\n"
          ],
          "name": "stdout"
        }
      ]
    },
    {
      "cell_type": "markdown",
      "metadata": {
        "id": "-W6Pzq9tSfmz"
      },
      "source": [
        "optimization"
      ],
      "id": "-W6Pzq9tSfmz"
    },
    {
      "cell_type": "code",
      "metadata": {
        "id": "j-YmHt9YShBH"
      },
      "source": [
        "rf_param_grid = {'max_features': ['sqrt', 'auto'],\n",
        "              'min_samples_leaf': [1, 3, 5],\n",
        "              'n_estimators': [100, 500, 1000],\n",
        "             'bootstrap': [False, True]}"
      ],
      "id": "j-YmHt9YShBH",
      "execution_count": null,
      "outputs": []
    },
    {
      "cell_type": "code",
      "metadata": {
        "id": "SoLo2pQNSnHE"
      },
      "source": [
        "rf_grid = GridSearchCV(estimator= RandomForestRegressor(), param_grid = rf_param_grid,  n_jobs=-1, verbose=0)"
      ],
      "id": "SoLo2pQNSnHE",
      "execution_count": null,
      "outputs": []
    },
    {
      "cell_type": "code",
      "metadata": {
        "colab": {
          "base_uri": "https://localhost:8080/"
        },
        "id": "mP9hXr3iSrmu",
        "outputId": "dcfd5596-88d3-4f10-c25a-7a5a3db83b20"
      },
      "source": [
        "rf_grid.fit((np.array(x_train).reshape(-1,1)),(np.array(y_train).reshape(-1,1)))"
      ],
      "id": "mP9hXr3iSrmu",
      "execution_count": 65,
      "outputs": [
        {
          "output_type": "stream",
          "text": [
            "/usr/local/lib/python3.7/dist-packages/joblib/externals/loky/process_executor.py:691: UserWarning: A worker stopped while some jobs were given to the executor. This can be caused by a too short worker timeout or by a memory leak.\n",
            "  \"timeout or by a memory leak.\", UserWarning\n",
            "/usr/local/lib/python3.7/dist-packages/sklearn/model_selection/_search.py:739: DataConversionWarning: A column-vector y was passed when a 1d array was expected. Please change the shape of y to (n_samples,), for example using ravel().\n",
            "  self.best_estimator_.fit(X, y, **fit_params)\n"
          ],
          "name": "stderr"
        },
        {
          "output_type": "execute_result",
          "data": {
            "text/plain": [
              "GridSearchCV(cv=None, error_score=nan,\n",
              "             estimator=RandomForestRegressor(bootstrap=True, ccp_alpha=0.0,\n",
              "                                             criterion='mse', max_depth=None,\n",
              "                                             max_features='auto',\n",
              "                                             max_leaf_nodes=None,\n",
              "                                             max_samples=None,\n",
              "                                             min_impurity_decrease=0.0,\n",
              "                                             min_impurity_split=None,\n",
              "                                             min_samples_leaf=1,\n",
              "                                             min_samples_split=2,\n",
              "                                             min_weight_fraction_leaf=0.0,\n",
              "                                             n_estimators=100, n_jobs=None,\n",
              "                                             oob_score=False, random_state=None,\n",
              "                                             verbose=0, warm_start=False),\n",
              "             iid='deprecated', n_jobs=-1,\n",
              "             param_grid={'bootstrap': [False, True],\n",
              "                         'max_features': ['sqrt', 'auto'],\n",
              "                         'min_samples_leaf': [1, 3, 5],\n",
              "                         'n_estimators': [100, 500, 1000]},\n",
              "             pre_dispatch='2*n_jobs', refit=True, return_train_score=False,\n",
              "             scoring=None, verbose=0)"
            ]
          },
          "metadata": {
            "tags": []
          },
          "execution_count": 65
        }
      ]
    },
    {
      "cell_type": "code",
      "metadata": {
        "id": "wHzEzFB6TCjU"
      },
      "source": [
        "rf_grid.best_params_\n",
        "rf_grid.best_estimator_\n",
        "rf_grid_predictions = rf_grid.predict(np.array(x_test).reshape(-1,1))"
      ],
      "id": "wHzEzFB6TCjU",
      "execution_count": 70,
      "outputs": []
    },
    {
      "cell_type": "code",
      "metadata": {
        "id": "gR9JQ_RDglP1",
        "colab": {
          "base_uri": "https://localhost:8080/"
        },
        "outputId": "2bfff549-d1c7-4336-ea83-eb6ea41e5212"
      },
      "source": [
        "print('MAE:', metrics.mean_absolute_error(y_test, rf_grid_predictions))\n",
        "print('RMSE:', np.sqrt(metrics.mean_squared_error(y_test, rf_grid_predictions)))\n",
        "print('R2_Score: ', metrics.r2_score(y_test, rf_grid_predictions))"
      ],
      "id": "gR9JQ_RDglP1",
      "execution_count": 71,
      "outputs": [
        {
          "output_type": "stream",
          "text": [
            "MAE: 18151.17151301229\n",
            "RMSE: 72942.12734483732\n",
            "R2_Score:  0.7718803835199051\n"
          ],
          "name": "stdout"
        }
      ]
    },
    {
      "cell_type": "code",
      "metadata": {
        "id": "CoZ6cSskg0tO",
        "colab": {
          "base_uri": "https://localhost:8080/",
          "height": 404
        },
        "outputId": "5d618722-785e-43c9-c2e9-bfa7e7b146b0"
      },
      "source": [
        "fig = plt.figure(figsize=(12, 6))\n",
        "plt.scatter(y_test,rf_grid_predictions, linewidths=2, edgecolors='b', color='coral')\n",
        "plt.xlabel('True GDP') \n",
        "plt.ylabel('Predictions') \n",
        "plt.title('Optimized Random Forest prediction Performance') \n",
        "plt.grid()\n",
        "plt.show()"
      ],
      "id": "CoZ6cSskg0tO",
      "execution_count": 72,
      "outputs": [
        {
          "output_type": "display_data",
          "data": {
            "image/png": "[encoded data removed]",
            "text/plain": [
              "<Figure size 864x432 with 1 Axes>"
            ]
          },
          "metadata": {
            "tags": [],
            "needs_background": "light"
          }
        }
      ]
    },
    {
      "cell_type": "markdown",
      "metadata": {
        "id": "_Hj9t5Ph1wAO"
      },
      "source": [
        "**COMPARISION B/W THE DIFF. MODELS**"
      ],
      "id": "_Hj9t5Ph1wAO"
    },
    {
      "cell_type": "code",
      "metadata": {
        "id": "z3HjzD111t2a"
      },
      "source": [
        "sns.lmplot(x='')"
      ],
      "id": "z3HjzD111t2a",
      "execution_count": 68,
      "outputs": []
    }
  ]
}